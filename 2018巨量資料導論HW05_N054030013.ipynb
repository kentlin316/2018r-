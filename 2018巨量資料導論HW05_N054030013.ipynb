{
 "cells": [
  {
   "cell_type": "code",
   "execution_count": 1,
   "metadata": {},
   "outputs": [
    {
     "name": "stderr",
     "output_type": "stream",
     "text": [
      "d:\\Anaconda3\\lib\\site-packages\\sklearn\\cross_validation.py:41: DeprecationWarning: This module was deprecated in version 0.18 in favor of the model_selection module into which all the refactored classes and functions are moved. Also note that the interface of the new CV iterators are different from that of this module. This module will be removed in 0.20.\n",
      "  \"This module will be removed in 0.20.\", DeprecationWarning)\n"
     ]
    }
   ],
   "source": [
    "from sklearn import preprocessing \n",
    "from sklearn.model_selection import GridSearchCV \n",
    "from sklearn.ensemble import RandomForestClassifier \n",
    "from sklearn.ensemble import RandomForestRegressor\n",
    "from sklearn import cross_validation"
   ]
  },
  {
   "cell_type": "code",
   "execution_count": 2,
   "metadata": {
    "collapsed": true
   },
   "outputs": [],
   "source": [
    "import warnings\n",
    "import pandas as pd\n",
    "import numpy as np\n",
    "import matplotlib.pyplot as plt\n",
    "import seaborn as sns"
   ]
  },
  {
   "cell_type": "code",
   "execution_count": 3,
   "metadata": {},
   "outputs": [
    {
     "name": "stdout",
     "output_type": "stream",
     "text": [
      "Requirement already satisfied: keras in d:\\anaconda3\\lib\\site-packages (2.2.0)\n",
      "Requirement already satisfied: six>=1.9.0 in d:\\anaconda3\\lib\\site-packages (from keras) (1.11.0)\n",
      "Requirement already satisfied: h5py in d:\\anaconda3\\lib\\site-packages (from keras) (2.7.0)\n",
      "Requirement already satisfied: keras-applications==1.0.2 in d:\\anaconda3\\lib\\site-packages (from keras) (1.0.2)\n",
      "Requirement already satisfied: pyyaml in d:\\anaconda3\\lib\\site-packages (from keras) (3.12)\n",
      "Requirement already satisfied: numpy>=1.9.1 in d:\\anaconda3\\lib\\site-packages (from keras) (1.13.3)\n",
      "Requirement already satisfied: keras-preprocessing==1.0.1 in d:\\anaconda3\\lib\\site-packages (from keras) (1.0.1)\n",
      "Requirement already satisfied: scipy>=0.14 in d:\\anaconda3\\lib\\site-packages (from keras) (0.19.1)\n"
     ]
    },
    {
     "name": "stderr",
     "output_type": "stream",
     "text": [
      "Using TensorFlow backend.\n"
     ]
    }
   ],
   "source": [
    "!pip install keras\n",
    "import keras"
   ]
  },
  {
   "cell_type": "code",
   "execution_count": 4,
   "metadata": {
    "collapsed": true
   },
   "outputs": [],
   "source": [
    "%matplotlib inline\n",
    "pd.options.mode.chained_assignment = None"
   ]
  },
  {
   "cell_type": "code",
   "execution_count": 5,
   "metadata": {
    "collapsed": true
   },
   "outputs": [],
   "source": [
    "train = pd.read_csv(\"train.csv\")\n",
    "test = pd.read_csv(\"test.csv\")\n",
    "submit = pd.read_csv('gender_submission.csv')\n",
    "submit_y=submit[\"Survived\"]  #最後結果資料"
   ]
  },
  {
   "cell_type": "code",
   "execution_count": 6,
   "metadata": {},
   "outputs": [
    {
     "name": "stdout",
     "output_type": "stream",
     "text": [
      "<class 'pandas.core.frame.DataFrame'>\n",
      "RangeIndex: 1309 entries, 0 to 1308\n",
      "Data columns (total 12 columns):\n",
      "Age            1046 non-null float64\n",
      "Cabin          295 non-null object\n",
      "Embarked       1307 non-null object\n",
      "Fare           1308 non-null float64\n",
      "Name           1309 non-null object\n",
      "Parch          1309 non-null int64\n",
      "PassengerId    1309 non-null int64\n",
      "Pclass         1309 non-null int64\n",
      "Sex            1309 non-null object\n",
      "SibSp          1309 non-null int64\n",
      "Survived       891 non-null float64\n",
      "Ticket         1309 non-null object\n",
      "dtypes: float64(3), int64(4), object(5)\n",
      "memory usage: 122.8+ KB\n"
     ]
    }
   ],
   "source": [
    "#TRAIN＋TEST資料 \n",
    "data=train.append(test)\n",
    "data.reset_index(inplace=True,drop=True)\n",
    "data.describe()\n",
    "data.info()"
   ]
  },
  {
   "cell_type": "code",
   "execution_count": 7,
   "metadata": {
    "collapsed": true
   },
   "outputs": [],
   "source": [
    "train['Family_Size']=train['Parch']+train['SibSp']"
   ]
  },
  {
   "cell_type": "code",
   "execution_count": 8,
   "metadata": {
    "collapsed": true
   },
   "outputs": [],
   "source": [
    "test['Family_Size']=test['Parch']+test['SibSp']"
   ]
  },
  {
   "cell_type": "code",
   "execution_count": 9,
   "metadata": {
    "collapsed": true
   },
   "outputs": [],
   "source": [
    "#補AGE Train , Test\n",
    "train['Age']=train['Age'].fillna(data['Age'].mean())\n",
    "test['Age']=test['Age'].fillna(data['Age'].mean())"
   ]
  },
  {
   "cell_type": "code",
   "execution_count": 10,
   "metadata": {
    "collapsed": true
   },
   "outputs": [],
   "source": [
    "#補Cabin\n",
    "train['Cabin']=train['Cabin'].apply(lambda x: str(x)[0] if not pd.isnull(x) else 'NoCabin')\n",
    "test['Cabin']=test['Cabin'].apply(lambda x: str(x)[0] if not pd.isnull(x) else 'NoCabin')"
   ]
  },
  {
   "cell_type": "code",
   "execution_count": 11,
   "metadata": {
    "collapsed": true
   },
   "outputs": [],
   "source": [
    "train['Embarked']=train['Embarked'].fillna('S')"
   ]
  },
  {
   "cell_type": "code",
   "execution_count": 12,
   "metadata": {
    "collapsed": true
   },
   "outputs": [],
   "source": [
    "test['Fare']=test['Fare'].fillna(data['Fare'].mean())\n",
    "train['Ticket_info'] = train['Ticket'].apply(\n",
    "     lambda x : x.replace(\".\",\"\").replace(\"/\",\"\").strip().split(' ')[0] if not x.isdigit() else 'X')\n",
    "test['Ticket_info'] = test['Ticket'].apply(\n",
    "     lambda x : x.replace(\".\",\"\").replace(\"/\",\"\").strip().split(' ')[0] if not x.isdigit() else 'X')"
   ]
  },
  {
   "cell_type": "code",
   "execution_count": 13,
   "metadata": {
    "collapsed": true
   },
   "outputs": [],
   "source": [
    "train['Title1']=train['Name'].str.split(\", \",expand=True)[1]\n",
    "train['Title1']=train['Title1'].str.split(\".\",expand=True)[0]\n",
    "train['Title2'] = train['Title1'].replace(['Mlle','Mme','Ms','Dr','Major','Lady','the Countess','Jonkheer','Col','Rev','Capt','Sir','Don','Dona'],\n",
    "         ['Miss','Mrs','Miss','Mr','Mr','Mrs','Mrs','Mr','Mr','Mr','Mr','Mr','Mr','Mrs'])\n",
    "test['Title1']=test['Name'].str.split(\", \",expand=True)[1]\n",
    "test['Title1']=test['Title1'].str.split(\".\",expand=True)[0]\n",
    "test['Title2'] = test['Title1'].replace(['Mlle','Mme','Ms','Dr','Major','Lady','the Countess','Jonkheer','Col','Rev','Capt','Sir','Don','Dona'],\n",
    "         ['Miss','Mrs','Miss','Mr','Mr','Mrs','Mrs','Mr','Mr','Mr','Mr','Mr','Mr','Mrs'])"
   ]
  },
  {
   "cell_type": "code",
   "execution_count": 14,
   "metadata": {
    "collapsed": true
   },
   "outputs": [],
   "source": [
    "#train 轉數字\n",
    "train['Age'] = train['Age'].astype('category').cat.codes\n",
    "train['Sex'] = train['Sex'].astype('category').cat.codes\n",
    "train['Embarked'] = train['Embarked'].astype('category').cat.codes\n",
    "train['Pclass'] = train['Pclass'].astype('category').cat.codes\n",
    "train['Cabin'] = train['Cabin'].astype('category').cat.codes\n",
    "train['Ticket_info'] = train['Ticket_info'].astype('category').cat.codes\n",
    "train['Fare'] = train['Fare'].astype('category').cat.codes\n",
    "train['Title1'] = train['Title1'].astype('category').cat.codes\n",
    "train['Title2'] = train['Title2'].astype('category').cat.codes"
   ]
  },
  {
   "cell_type": "code",
   "execution_count": 15,
   "metadata": {
    "collapsed": true
   },
   "outputs": [],
   "source": [
    "# test 轉數字\n",
    "test['Age'] = test['Age'].astype('category').cat.codes\n",
    "test['Sex'] = test['Sex'].astype('category').cat.codes\n",
    "test['Embarked'] = test['Embarked'].astype('category').cat.codes\n",
    "test['Pclass'] = test['Pclass'].astype('category').cat.codes\n",
    "test['Cabin'] = test['Cabin'].astype('category').cat.codes\n",
    "test['Ticket_info'] = test['Ticket_info'].astype('category').cat.codes\n",
    "test['Fare'] = test['Fare'].astype('category').cat.codes\n",
    "test['Title1'] = test['Title1'].astype('category').cat.codes\n",
    "test['Title2'] = test['Title2'].astype('category').cat.codes"
   ]
  },
  {
   "cell_type": "code",
   "execution_count": 16,
   "metadata": {
    "collapsed": true
   },
   "outputs": [],
   "source": [
    "titanic_X = pd.DataFrame([\n",
    "                         train['Sex'],\n",
    "                         train['Embarked'],\n",
    "                         train['Pclass'],\n",
    "                         train['Cabin'],\n",
    "                         train['Ticket_info']]).T\n",
    "titanic_y = train[\"Survived\"]\n",
    "\n",
    "selected_features = ['Pclass', 'Sex', 'SibSp', 'Parch', 'Fare', 'Embarked']\n",
    "titanic_X=train[selected_features]"
   ]
  },
  {
   "cell_type": "code",
   "execution_count": 17,
   "metadata": {
    "collapsed": true
   },
   "outputs": [],
   "source": [
    "test_X = pd.DataFrame([\n",
    "                         test['Sex'],\n",
    "                         test['Embarked'],\n",
    "                         test['Pclass'],\n",
    "                         test['Cabin'],\n",
    "                         test['Ticket_info']\n",
    "                         ]).T\n",
    "\n",
    "test_y=submit[\"Survived\"]\n",
    "test_X  = test[selected_features]"
   ]
  },
  {
   "cell_type": "code",
   "execution_count": 18,
   "metadata": {},
   "outputs": [
    {
     "data": {
      "text/plain": [
       "SVC(C=1.0, cache_size=200, class_weight=None, coef0=0.0,\n",
       "  decision_function_shape='ovr', degree=3, gamma='auto', kernel='rbf',\n",
       "  max_iter=-1, probability=False, random_state=None, shrinking=True,\n",
       "  tol=0.001, verbose=False)"
      ]
     },
     "execution_count": 18,
     "metadata": {},
     "output_type": "execute_result"
    }
   ],
   "source": [
    "#1. 載入模型\n",
    "from sklearn.svm import SVC\n",
    "clf = SVC()\n",
    "clf.fit(titanic_X.values, titanic_y.values)"
   ]
  },
  {
   "cell_type": "code",
   "execution_count": 19,
   "metadata": {
    "collapsed": true
   },
   "outputs": [],
   "source": [
    "test_y_predicted = clf.predict(test_X)"
   ]
  },
  {
   "cell_type": "code",
   "execution_count": 20,
   "metadata": {},
   "outputs": [
    {
     "data": {
      "text/plain": [
       "array([0, 0, 0, 0, 0, 0, 0, 0, 0, 0, 0, 0, 1, 0, 1, 0, 0, 0, 1, 0, 0, 0, 1,\n",
       "       0, 0, 0, 1, 0, 1, 0, 0, 1, 1, 1, 0, 0, 1, 0, 0, 0, 0, 0, 0, 0, 1, 0,\n",
       "       0, 0, 0, 0, 0, 0, 1, 0, 0, 0, 0, 0, 0, 0, 0, 0, 0, 1, 0, 1, 1, 0, 0,\n",
       "       0, 0, 0, 1, 0, 0, 0, 0, 0, 0, 0, 0, 0, 0, 0, 0, 0, 1, 1, 0, 0, 0, 0,\n",
       "       1, 0, 0, 0, 0, 0, 0, 0, 1, 0, 0, 0, 1, 0, 0, 0, 0, 0, 0, 0, 1, 0, 0,\n",
       "       0, 0, 1, 0, 0, 0, 0, 0, 0, 0, 1, 0, 1, 0, 0, 0, 0, 0, 0, 0, 0, 0, 0,\n",
       "       1, 0, 0, 0, 0, 0, 0, 0, 1, 0, 0, 0, 0, 0, 0, 0, 1, 0, 0, 0, 0, 0, 1,\n",
       "       0, 0, 0, 0, 1, 0, 1, 0, 0, 0, 0, 0, 0, 0, 1, 0, 1, 1, 0, 0, 0, 1, 0,\n",
       "       0, 0, 1, 0, 0, 0, 0, 0, 0, 0, 1, 0, 1, 0, 0, 0, 0, 0, 0, 0, 0, 0, 0,\n",
       "       0, 0, 0, 0, 0, 1, 0, 0, 0, 1, 0, 0, 0, 0, 0, 0, 0, 0, 0, 0, 0, 0, 0,\n",
       "       1, 0, 0, 0, 1, 0, 0, 0, 0, 1, 0, 0, 1, 0, 0, 1, 1, 0, 0, 0, 0, 0, 1,\n",
       "       0, 0, 0, 0, 0, 0, 0, 0, 0, 1, 0, 0, 0, 0, 0, 1, 0, 0, 0, 1, 0, 0, 0,\n",
       "       0, 0, 1, 0, 0, 0, 0, 0, 0, 0, 0, 1, 0, 0, 1, 0, 0, 0, 0, 0, 1, 0, 0,\n",
       "       0, 0, 0, 1, 0, 0, 0, 0, 0, 1, 0, 0, 0, 0, 0, 1, 1, 0, 0, 0, 1, 0, 0,\n",
       "       0, 0, 1, 0, 1, 0, 0, 0, 1, 0, 0, 0, 0, 0, 0, 0, 1, 0, 0, 0, 0, 1, 0,\n",
       "       0, 0, 0, 0, 1, 1, 0, 1, 1, 1, 0, 0, 0, 0, 0, 0, 1, 1, 0, 1, 0, 0, 1,\n",
       "       0, 0, 0, 1, 0, 0, 1, 0, 0, 0, 0, 1, 0, 0, 0, 1, 0, 1, 0, 0, 0, 1, 1,\n",
       "       1, 1, 0, 0, 0, 0, 0, 0, 0, 1, 1, 0, 0, 0, 0, 0, 0, 1, 0, 0, 1, 0, 0,\n",
       "       1, 0, 0, 0], dtype=int64)"
      ]
     },
     "execution_count": 20,
     "metadata": {},
     "output_type": "execute_result"
    }
   ],
   "source": [
    "test_y_predicted"
   ]
  },
  {
   "cell_type": "code",
   "execution_count": 21,
   "metadata": {},
   "outputs": [
    {
     "name": "stdout",
     "output_type": "stream",
     "text": [
      "0.710526315789\n"
     ]
    }
   ],
   "source": [
    "from sklearn import  metrics\n",
    "accuracy = metrics.accuracy_score( test_y_predicted,test_y)\n",
    "print(accuracy)"
   ]
  },
  {
   "cell_type": "code",
   "execution_count": 22,
   "metadata": {
    "collapsed": true
   },
   "outputs": [],
   "source": [
    "submit['Survived'] = test_y_predicted"
   ]
  },
  {
   "cell_type": "code",
   "execution_count": 23,
   "metadata": {},
   "outputs": [
    {
     "name": "stdout",
     "output_type": "stream",
     "text": [
      "<class 'pandas.core.frame.DataFrame'>\n",
      "RangeIndex: 418 entries, 0 to 417\n",
      "Data columns (total 2 columns):\n",
      "PassengerId    418 non-null int64\n",
      "Survived       418 non-null int64\n",
      "dtypes: int64(2)\n",
      "memory usage: 6.6 KB\n"
     ]
    }
   ],
   "source": [
    "submit.info()"
   ]
  },
  {
   "cell_type": "code",
   "execution_count": 24,
   "metadata": {
    "collapsed": true
   },
   "outputs": [],
   "source": [
    "submit.to_csv('submit.csv', index= False)"
   ]
  },
  {
   "cell_type": "code",
   "execution_count": 25,
   "metadata": {
    "collapsed": true
   },
   "outputs": [],
   "source": [
    "#Random Forest\n",
    "rfc = RandomForestClassifier()"
   ]
  },
  {
   "cell_type": "code",
   "execution_count": 26,
   "metadata": {},
   "outputs": [
    {
     "data": {
      "text/plain": [
       "0.7924038134150494"
      ]
     },
     "execution_count": 26,
     "metadata": {},
     "output_type": "execute_result"
    }
   ],
   "source": [
    "from sklearn.model_selection import cross_val_score\n",
    "cross_val_score(rfc, titanic_X, titanic_y, cv=10).mean()"
   ]
  },
  {
   "cell_type": "code",
   "execution_count": 27,
   "metadata": {
    "collapsed": true
   },
   "outputs": [],
   "source": [
    "rfc.fit(titanic_X, titanic_y)\n",
    "survived_predict = rfc.predict(test_X)"
   ]
  },
  {
   "cell_type": "code",
   "execution_count": 28,
   "metadata": {},
   "outputs": [
    {
     "name": "stdout",
     "output_type": "stream",
     "text": [
      "0.772727272727\n"
     ]
    }
   ],
   "source": [
    "accuracy = metrics.accuracy_score(survived_predict,test_y)\n",
    "print(accuracy)"
   ]
  },
  {
   "cell_type": "code",
   "execution_count": 29,
   "metadata": {},
   "outputs": [],
   "source": [
    "model = keras.models.Sequential()\n",
    "model.add(keras.layers.Dense(40, input_dim=6, activation=('relu')))\n",
    "model.add(keras.layers.Dense(30, activation=('relu')))\n",
    "model.add(keras.layers.Dense(20, activation=('relu')))\n",
    "model.add(keras.layers.Dense(10, activation=('relu')))\n",
    "model.add(keras.layers.Dense(1, activation=('sigmoid')))\n",
    "model.compile(loss='binary_crossentropy', optimizer='adam')"
   ]
  },
  {
   "cell_type": "code",
   "execution_count": 30,
   "metadata": {},
   "outputs": [
    {
     "name": "stdout",
     "output_type": "stream",
     "text": [
      "Train on 801 samples, validate on 90 samples\n",
      "Epoch 1/30\n",
      "801/801 [==============================] - 1s 751us/step - loss: 1.6209 - val_loss: 0.8353\n",
      "Epoch 2/30\n",
      "801/801 [==============================] - 0s 73us/step - loss: 0.7013 - val_loss: 0.6288\n",
      "Epoch 3/30\n",
      "801/801 [==============================] - 0s 80us/step - loss: 0.6835 - val_loss: 0.6147\n",
      "Epoch 4/30\n",
      "801/801 [==============================] - 0s 80us/step - loss: 0.6285 - val_loss: 0.5723\n",
      "Epoch 5/30\n",
      "801/801 [==============================] - 0s 85us/step - loss: 0.6124 - val_loss: 0.5151\n",
      "Epoch 6/30\n",
      "801/801 [==============================] - 0s 75us/step - loss: 0.5852 - val_loss: 0.5186\n",
      "Epoch 7/30\n",
      "801/801 [==============================] - 0s 80us/step - loss: 0.6042 - val_loss: 0.4797\n",
      "Epoch 8/30\n",
      "801/801 [==============================] - 0s 85us/step - loss: 0.5715 - val_loss: 0.4952\n",
      "Epoch 9/30\n",
      "801/801 [==============================] - 0s 90us/step - loss: 0.5932 - val_loss: 0.4716\n",
      "Epoch 10/30\n",
      "801/801 [==============================] - 0s 90us/step - loss: 0.5651 - val_loss: 0.4757\n",
      "Epoch 11/30\n",
      "801/801 [==============================] - 0s 85us/step - loss: 0.5762 - val_loss: 0.4712\n",
      "Epoch 12/30\n",
      "801/801 [==============================] - 0s 85us/step - loss: 0.5984 - val_loss: 0.4721\n",
      "Epoch 13/30\n",
      "801/801 [==============================] - 0s 85us/step - loss: 0.6061 - val_loss: 0.4600\n",
      "Epoch 14/30\n",
      "801/801 [==============================] - 0s 80us/step - loss: 0.5433 - val_loss: 0.4549\n",
      "Epoch 15/30\n",
      "801/801 [==============================] - 0s 85us/step - loss: 0.5479 - val_loss: 0.4707\n",
      "Epoch 16/30\n",
      "801/801 [==============================] - 0s 90us/step - loss: 0.5319 - val_loss: 0.5197\n",
      "Epoch 17/30\n",
      "801/801 [==============================] - 0s 80us/step - loss: 0.5452 - val_loss: 0.4712\n",
      "Epoch 18/30\n",
      "801/801 [==============================] - 0s 80us/step - loss: 0.5559 - val_loss: 0.4518\n",
      "Epoch 19/30\n",
      "801/801 [==============================] - 0s 65us/step - loss: 0.5246 - val_loss: 0.4532\n",
      "Epoch 20/30\n",
      "801/801 [==============================] - 0s 70us/step - loss: 0.5111 - val_loss: 0.4353\n",
      "Epoch 21/30\n",
      "801/801 [==============================] - 0s 70us/step - loss: 0.5102 - val_loss: 0.4815\n",
      "Epoch 22/30\n",
      "801/801 [==============================] - 0s 80us/step - loss: 0.5154 - val_loss: 0.4479\n",
      "Epoch 23/30\n",
      "801/801 [==============================] - 0s 90us/step - loss: 0.5165 - val_loss: 0.4266\n",
      "Epoch 24/30\n",
      "801/801 [==============================] - 0s 85us/step - loss: 0.4992 - val_loss: 0.5068\n",
      "Epoch 25/30\n",
      "801/801 [==============================] - 0s 80us/step - loss: 0.5418 - val_loss: 0.5071\n",
      "Epoch 26/30\n",
      "801/801 [==============================] - 0s 70us/step - loss: 0.5121 - val_loss: 0.4285\n",
      "Epoch 27/30\n",
      "801/801 [==============================] - 0s 80us/step - loss: 0.5003 - val_loss: 0.4270\n",
      "Epoch 28/30\n",
      "801/801 [==============================] - 0s 80us/step - loss: 0.4879 - val_loss: 0.4800\n",
      "Epoch 29/30\n",
      "801/801 [==============================] - 0s 75us/step - loss: 0.5196 - val_loss: 0.5700\n",
      "Epoch 30/30\n",
      "801/801 [==============================] - 0s 100us/step - loss: 0.5571 - val_loss: 0.4356\n"
     ]
    },
    {
     "data": {
      "text/plain": [
       "<keras.callbacks.History at 0x1ab5cfc8668>"
      ]
     },
     "execution_count": 30,
     "metadata": {},
     "output_type": "execute_result"
    }
   ],
   "source": [
    "model.fit(titanic_X,titanic_y,validation_split=0.1,epochs=30)"
   ]
  },
  {
   "cell_type": "code",
   "execution_count": 31,
   "metadata": {},
   "outputs": [],
   "source": [
    "y_new = model.predict_classes(test_X)"
   ]
  },
  {
   "cell_type": "code",
   "execution_count": 32,
   "metadata": {},
   "outputs": [
    {
     "name": "stdout",
     "output_type": "stream",
     "text": [
      "0.813397129187\n"
     ]
    }
   ],
   "source": [
    "accuracy = metrics.accuracy_score(survived_predict,y_new)\n",
    "print(accuracy)"
   ]
  },
  {
   "cell_type": "code",
   "execution_count": 33,
   "metadata": {},
   "outputs": [],
   "source": [
    "submit['Survived'] = y_new"
   ]
  },
  {
   "cell_type": "code",
   "execution_count": 34,
   "metadata": {
    "collapsed": true
   },
   "outputs": [],
   "source": [
    "submit.to_csv('submit_keras.csv', index= False)"
   ]
  },
  {
   "cell_type": "code",
   "execution_count": null,
   "metadata": {
    "collapsed": true
   },
   "outputs": [],
   "source": []
  }
 ],
 "metadata": {
  "kernelspec": {
   "display_name": "Python 3",
   "language": "python",
   "name": "python3"
  },
  "language_info": {
   "codemirror_mode": {
    "name": "ipython",
    "version": 3
   },
   "file_extension": ".py",
   "mimetype": "text/x-python",
   "name": "python",
   "nbconvert_exporter": "python",
   "pygments_lexer": "ipython3",
   "version": "3.6.3"
  }
 },
 "nbformat": 4,
 "nbformat_minor": 2
}
