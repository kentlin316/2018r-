{
 "cells": [
  {
   "cell_type": "markdown",
   "metadata": {},
   "source": [
    "#  HW1 複習以前學過的PYTHON\n",
    "## 下面這段CODE是以前同組的同學寫的CODE，根據輸入的月份及日期，可以判斷星座\n",
    "## 以前沒有時間去研究它，只是那來放在期末報告裡面。\n",
    "## 感謝老師這次出了這題作業，回去翻開以前教過的東西，才會想要去再研究CODE。\n",
    "## 以前覺得很神奇，其實就是判斷每個星座交換的日期，再去判斷所屬月份，對應到所屬星座。"
   ]
  },
  {
   "cell_type": "code",
   "execution_count": 3,
   "metadata": {},
   "outputs": [
    {
     "name": "stdout",
     "output_type": "stream",
     "text": [
      "請輸入月份5\n",
      "請輸入日期3\n",
      "金牛座\n"
     ]
    }
   ],
   "source": [
    "月 = int(input(\"請輸入月份\"))\n",
    "日 = int(input(\"請輸入日期\"))\n",
    "\n",
    "def get_constellation(month, date):\n",
    "    dates = (21, 20, 21, 21, 22, 22, 23, 24, 24, 24, 23, 22)\n",
    "    constellations = (\"摩羯座\", \"水瓶座\", \"雙魚座\", \"牡羊座\", \"金牛座\", \"雙子座\", \"巨蟹座\", \"獅子座\", \"處女座\", \"天秤座\", \"天蝎座\", \"射手座\", \"魔羯座\")\n",
    "    \n",
    "    if date < dates[month-1]:\n",
    "        return constellations[month-1]\n",
    "    else:\n",
    "        return constellations[month]\n",
    "\n",
    "print ((get_constellation(月,日)))"
   ]
  },
  {
   "cell_type": "code",
   "execution_count": null,
   "metadata": {
    "collapsed": true
   },
   "outputs": [],
   "source": []
  }
 ],
 "metadata": {
  "kernelspec": {
   "display_name": "Python 3",
   "language": "python",
   "name": "python3"
  },
  "language_info": {
   "codemirror_mode": {
    "name": "ipython",
    "version": 3
   },
   "file_extension": ".py",
   "mimetype": "text/x-python",
   "name": "python",
   "nbconvert_exporter": "python",
   "pygments_lexer": "ipython3",
   "version": "3.6.3"
  }
 },
 "nbformat": 4,
 "nbformat_minor": 2
}
